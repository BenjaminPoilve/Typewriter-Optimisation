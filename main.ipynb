{
 "cells": [
  {
   "cell_type": "markdown",
   "metadata": {},
   "source": [
    "# Optimising (further?) a Typewriter\n",
    "\n",
    "I read this [very interesting article](https://hardmath123.github.io/crown-typewriter.html) a few days ago. I found this very interesting, and I wanted to see If I could \n",
    "\n",
    "* Reproduce the result\n",
    "* Try a constraints solver for this issue\n",
    "* Maybe devise another algorithm\n",
    "\n",
    "So let's start with the beginning, and load the data. Wa want to use the same dataset to compare the results!\n",
    "\n",
    "## Loading the data\n"
   ]
  },
  {
   "cell_type": "code",
   "execution_count": 2,
   "metadata": {},
   "outputs": [
    {
     "data": {
      "image/png": "[encoded data removed]",
      "text/plain": [
       "<matplotlib.figure.Figure at 0x1a16757eb8>"
      ]
     },
     "metadata": {},
     "output_type": "display_data"
    }
   ],
   "source": [
    "import numpy as np\n",
    "import pandas as pd\n",
    "import seaborn as sns\n",
    "import matplotlib.pyplot as plt\n",
    "import string\n",
    "\n",
    "alphabet= string.ascii_uppercase\n",
    "infile = open('digraphs.txt', 'r')\n",
    "digraph_matrix=np.empty([len(alphabet), len(alphabet)])\n",
    "index=0\n",
    "for line in infile:\n",
    "    line = line.replace('\\n', '').replace('{', '').replace('},', '').replace('}', '').replace(' ', '')\n",
    "    digraph_matrix[index]=line.split(',')  \n",
    "    index+=1\n",
    "infile.close()\n",
    "\n",
    "df = pd.DataFrame(digraph_matrix, index=list(alphabet),columns=list(alphabet))\n",
    "fig, ax = plt.subplots(figsize=(5,4))         # Sample figsize in inches\n",
    "\n",
    "p1 = sns.heatmap(df)\n",
    "#Seems ok to me"
   ]
  },
  {
   "cell_type": "markdown",
   "metadata": {},
   "source": [
    "# Cleaning the data\n",
    "The result is ok, but two things could be better:\n",
    "\n",
    "* We will use this matrix to calculate the cost of movement. So the diagonal might as well be zero, cause it costs us nothing\n",
    "* From the same line of thinking, we don't care about A-->B or B-->A. We might as well sum to the half matrix."
   ]
  },
  {
   "cell_type": "code",
   "execution_count": 5,
   "metadata": {},
   "outputs": [],
   "source": [
    "summed_digraph=np.add(digraph_matrix,digraph_matrix.transpose())\n",
    "diag_digraph=np.tril(summed_digraph)"
   ]
  },
  {
   "cell_type": "markdown",
   "metadata": {},
   "source": [
    "### Cost Function\n",
    "Let's write the cost function, and check that we fit with the article conclusions"
   ]
  },
  {
   "cell_type": "code",
   "execution_count": 6,
   "metadata": {},
   "outputs": [
    {
     "data": {
      "text/plain": [
       "9630941.0"
      ]
     },
     "execution_count": 6,
     "metadata": {},
     "output_type": "execute_result"
    }
   ],
   "source": [
    "def distance_in_string(a,b,string):\n",
    "    #index because we want to know if it is not found\n",
    "    return abs(string.index(a)-string.index(b))\n",
    "\n",
    "\n",
    "def test_permutation(string_permutation):\n",
    "    distance_matrix=np.empty([len(alphabet), len(alphabet)])\n",
    "    for index_1,letter_1 in enumerate(alphabet):\n",
    "        for index_2,letter_2 in enumerate(alphabet):\n",
    "            distance_matrix[index_1][index_2]=distance_in_string(letter_1,letter_2,string_permutation)\n",
    "    score_matrix=np.multiply(distance_matrix, diag_digraph)\n",
    "    return score_matrix.sum()\n",
    "\n",
    "test_permutation(\"ABCDEFGHIJKLMNOPQRSTUVWXYZ\")\n",
    "#It's OK with the source! "
   ]
  },
  {
   "cell_type": "markdown",
   "metadata": {},
   "source": [
    "### Genetic method\n",
    "\n",
    "Ok so let's implement a genetic algorihm:\n",
    "\n",
    "* Start from random permutation\n",
    "* Try 10 random swap\n",
    "* Chooses the best "
   ]
  },
  {
   "cell_type": "code",
   "execution_count": 5,
   "metadata": {},
   "outputs": [
    {
     "data": {
      "text/plain": [
       "(5499341.0, 'QJXPBYFMULORSETHAINDCWGVKZ')"
      ]
     },
     "execution_count": 5,
     "metadata": {},
     "output_type": "execute_result"
    }
   ],
   "source": [
    "import random \n",
    "\n",
    "def random_permutation():\n",
    "    alphabet_list= list(string.ascii_uppercase)\n",
    "    random.shuffle(alphabet_list)\n",
    "    return ''.join(alphabet_list)\n",
    "\n",
    "def random_swap(string):\n",
    "    list_string=list(string)\n",
    "    indexes=random.sample(range(0,len(string)), 2)\n",
    "    save=list_string[indexes[1]]\n",
    "    list_string[indexes[1]]=list_string[indexes[0]]\n",
    "    list_string[indexes[0]]=save\n",
    "    return ''.join(list_string)\n",
    "\n",
    "def evolve_string(string,number_test):\n",
    "    best_performance=test_permutation(string)\n",
    "    best_outsider=string\n",
    "    for i in range(number_test):\n",
    "        outsider=random_swap(string)\n",
    "        outsider_score=test_permutation(outsider)\n",
    "        if outsider_score<best_performance:\n",
    "            best_outsider=outsider\n",
    "            best_performance=outsider_score\n",
    "    return best_outsider\n",
    "    \n",
    "def genetic_force(seed_size,number_test,stop_cutoff):\n",
    "    #generate seed\n",
    "    family= [random_permutation() for x in range(seed_size)]\n",
    "    stop_counter=0\n",
    "    while stop_counter<stop_cutoff:\n",
    "        old_family=family.copy()\n",
    "        for index, value in enumerate(family):\n",
    "            family[index]=evolve_string(value,number_test)\n",
    "        if old_family==family:\n",
    "            stop_counter+=1\n",
    "        else:\n",
    "            stop_counter=0\n",
    "        score=[test_permutation(x) for x in family]\n",
    "        arg=np.argsort(score)[0]\n",
    "    score=[test_permutation(x) for x in family]\n",
    "    arg=np.argsort(score)[0]\n",
    "    return score[arg],family[arg]\n",
    "    \n",
    "#It might take a while!\n",
    "genetic_force(100,50,5)"
   ]
  },
  {
   "cell_type": "markdown",
   "metadata": {},
   "source": [
    "### Constraint-based solving\n",
    "\n",
    "Ok so now, let's try a constraint based method. We we use google or-tools"
   ]
  },
  {
   "cell_type": "code",
   "execution_count": null,
   "metadata": {},
   "outputs": [],
   "source": [
    "from ortools.sat.python import cp_model\n",
    "\n",
    "#Need to update my mac to have the right version"
   ]
  },
  {
   "cell_type": "code",
   "execution_count": null,
   "metadata": {},
   "outputs": [],
   "source": []
  }
 ],
 "metadata": {
  "kernelspec": {
   "display_name": "Python 3",
   "language": "python",
   "name": "python3"
  },
  "language_info": {
   "codemirror_mode": {
    "name": "ipython",
    "version": 3
   },
   "file_extension": ".py",
   "mimetype": "text/x-python",
   "name": "python",
   "nbconvert_exporter": "python",
   "pygments_lexer": "ipython3",
   "version": "3.6.4"
  }
 },
 "nbformat": 4,
 "nbformat_minor": 2
}
