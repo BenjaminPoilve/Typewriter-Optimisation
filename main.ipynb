{
 "cells": [
  {
   "cell_type": "markdown",
   "metadata": {},
   "source": [
    "# Optimising (further?) a Typewriter\n",
    "\n",
    "I read this [very interesting article](https://hardmath123.github.io/crown-typewriter.html) a few days ago. I found this very interesting, and I wanted to see If I could \n",
    "\n",
    "* Reproduce the result\n",
    "* Try a constraints solver for this issue\n",
    "* Maybe try to solve other related problems\n",
    "\n",
    "So let's start with the beginning, and load the data. Wa want to use the same dataset to compare the results!\n",
    "\n",
    "## Loading the data\n"
   ]
  },
  {
   "cell_type": "code",
   "execution_count": 36,
   "metadata": {},
   "outputs": [
    {
     "data": {
      "image/png": "[encoded data removed]",
      "text/plain": [
       "<matplotlib.figure.Figure at 0x105ab5080>"
      ]
     },
     "metadata": {},
     "output_type": "display_data"
    }
   ],
   "source": [
    "import numpy as np\n",
    "import pandas as pd\n",
    "import seaborn as sns\n",
    "import matplotlib.pyplot as plt\n",
    "import string\n",
    "\n",
    "alphabet= string.ascii_uppercase\n",
    "infile = open('digraphs.txt', 'r')\n",
    "digraph_matrix=np.empty([len(alphabet), len(alphabet)])\n",
    "index=0\n",
    "for line in infile:\n",
    "    line = line.replace('\\n', '').replace('{', '').replace('},', '').replace('}', '').replace(' ', '')\n",
    "    digraph_matrix[index]=line.split(',')  \n",
    "    index+=1\n",
    "infile.close()\n",
    "\n",
    "df = pd.DataFrame(digraph_matrix, index=list(alphabet),columns=list(alphabet))\n",
    "fig, ax = plt.subplots(figsize=(5,4))         # Sample figsize in inches\n",
    "\n",
    "p1 = sns.heatmap(df)\n",
    "#Seems ok to me"
   ]
  },
  {
   "cell_type": "markdown",
   "metadata": {},
   "source": [
    "# Cleaning the data\n",
    "The result is ok, but two things could be better:\n",
    "\n",
    "* We will use this matrix to calculate the cost of movement. So the diagonal might as well be zero, cause it costs us nothing\n",
    "* From the same line of thinking, we don't care about A-->B or B-->A. We might as well sum to the half matrix."
   ]
  },
  {
   "cell_type": "code",
   "execution_count": 37,
   "metadata": {},
   "outputs": [],
   "source": [
    "summed_digraph=np.add(digraph_matrix,digraph_matrix.transpose())\n",
    "diag_digraph=np.tril(summed_digraph)"
   ]
  },
  {
   "cell_type": "markdown",
   "metadata": {},
   "source": [
    "### Cost Function\n",
    "Let's write the cost function, and check that we fit with the article conclusions"
   ]
  },
  {
   "cell_type": "code",
   "execution_count": 38,
   "metadata": {},
   "outputs": [
    {
     "data": {
      "text/plain": [
       "9630941.0"
      ]
     },
     "execution_count": 38,
     "metadata": {},
     "output_type": "execute_result"
    }
   ],
   "source": [
    "def cost_typewriter(a,b,string):\n",
    "    #index because we want to know if it is not found\n",
    "    return abs(string.index(a)-string.index(b))\n",
    "\n",
    "def test_permutation(string_permutation,cost_function):\n",
    "    distance_matrix=np.empty([len(string_permutation), len(string_permutation)])\n",
    "    for index_1,letter_1 in enumerate(alphabet):\n",
    "        for index_2,letter_2 in enumerate(alphabet):\n",
    "            distance_matrix[index_1][index_2]=cost_function(letter_1,letter_2,string_permutation)\n",
    "    score_matrix=np.multiply(distance_matrix, diag_digraph)\n",
    "    return score_matrix.sum()\n",
    "\n",
    "test_permutation(\"ABCDEFGHIJKLMNOPQRSTUVWXYZ\",cost_typewriter)\n",
    "#It's OK with the source! "
   ]
  },
  {
   "cell_type": "markdown",
   "metadata": {},
   "source": [
    "### Genetic method\n",
    "\n",
    "Ok so let's implement a genetic algorihm:\n",
    "\n",
    "* Start from random permutation\n",
    "* Try n random swap\n",
    "* Chooses the best \n",
    "\n",
    "I threaded it, using the information from this [very interesting article](https://medium.com/@bfortuner/python-multithreading-vs-multiprocessing-73072ce5600b)"
   ]
  },
  {
   "cell_type": "code",
   "execution_count": 39,
   "metadata": {},
   "outputs": [
    {
     "name": "stdout",
     "output_type": "stream",
     "text": [
      "(5499341.0, 'QJXPBYFMULORSETHAINDCWGVKZ')\n"
     ]
    },
    {
     "data": {
      "image/png": "[encoded data removed]",
      "text/plain": [
       "<matplotlib.figure.Figure at 0x10d901a20>"
      ]
     },
     "metadata": {},
     "output_type": "display_data"
    }
   ],
   "source": [
    "import random \n",
    "from concurrent.futures import ProcessPoolExecutor, ThreadPoolExecutor\n",
    "from itertools import repeat\n",
    "\n",
    "def random_permutation():\n",
    "    alphabet_list= list(string.ascii_uppercase)\n",
    "    random.shuffle(alphabet_list)\n",
    "    return ''.join(alphabet_list)\n",
    "\n",
    "def random_swap(string):\n",
    "    list_string=list(string)\n",
    "    indexes=random.sample(range(0,len(string)), 2)\n",
    "    list_string[indexes[1]],list_string[indexes[0]]=(list_string[indexes[0]],list_string[indexes[1]])\n",
    "    return ''.join(list_string)\n",
    "\n",
    "def evolve_string(string,number_test,cost_function):\n",
    "    best_performance=test_permutation(string,cost_function)\n",
    "    best_outsider=string\n",
    "    for i in range(number_test):\n",
    "        outsider=random_swap(string)\n",
    "        outsider_score=test_permutation(outsider,cost_function)\n",
    "        if outsider_score<best_performance:\n",
    "            best_outsider=outsider\n",
    "            best_performance=outsider_score\n",
    "    return best_outsider\n",
    "    \n",
    "def genetic_force(seed_size,number_test,stop_cutoff,cost_function):\n",
    "    #generate seed\n",
    "    family= [random_permutation() for x in range(seed_size)]\n",
    "    stop_counter=0\n",
    "    while stop_counter<stop_cutoff:\n",
    "        old_family=family.copy()\n",
    "        with ProcessPoolExecutor(max_workers=seed_size) as executor:\n",
    "            res = executor.map(evolve_string,family,repeat(number_test),repeat(cost_function))\n",
    "        family=list(res)\n",
    "        if old_family==family:\n",
    "            stop_counter+=1\n",
    "        else:\n",
    "            stop_counter=0\n",
    "        score=[test_permutation(x,cost_function) for x in family]\n",
    "        arg=np.argsort(score)[0]\n",
    "    score=[test_permutation(x,cost_function) for x in family]\n",
    "    arg=np.argsort(score)[0]\n",
    "    return score[arg],family[arg]\n",
    "\n",
    "proposition=genetic_force(50,10,5,cost_typewriter)\n",
    "\n",
    "#Let's plot the heatmap of the result\n",
    "df = pd.DataFrame(summed_digraph/2, index=list(alphabet),columns=list(alphabet))\n",
    "df=df[list(proposition[1])]\n",
    "df=df.reindex(list(proposition[1]))\n",
    "print(proposition)\n",
    "p1 = sns.heatmap(df)\n"
   ]
  },
  {
   "cell_type": "markdown",
   "metadata": {},
   "source": [
    "### Constraint-based solving\n",
    "\n",
    "Ok so now, let's try a constraint based method. We use Z3 and find out pretty fast that it won't work. It is far too slow. So the best we can do is to predict how long it would take."
   ]
  },
  {
   "cell_type": "code",
   "execution_count": 43,
   "metadata": {},
   "outputs": [
    {
     "data": {
      "image/png": "[encoded data removed]",
      "text/plain": [
       "<matplotlib.figure.Figure at 0x1a10b97f98>"
      ]
     },
     "metadata": {},
     "output_type": "display_data"
    },
    {
     "name": "stdout",
     "output_type": "stream",
     "text": [
      "predicted time for 26 letter : 13.31723421267026  million of years\n"
     ]
    }
   ],
   "source": [
    "#Note: to install z3 use: pip install z3-solver\n",
    "\n",
    "from z3 import *\n",
    "import string\n",
    "import time\n",
    "import math\n",
    "alphabet= string.ascii_uppercase\n",
    "\n",
    "def diff(x, y):\n",
    "    return If(x<y, y-x, x-y)\n",
    "\n",
    "#Z3 does not support matrix operations\n",
    "def cost_fonction_linear(array):\n",
    "    sum_cost=0\n",
    "    for index_1,variable_1 in enumerate(array):\n",
    "        for index_2,variable_2 in enumerate(array):\n",
    "            sum_cost+=diag_digraph[index_1][index_2]*diff(variable_1,variable_2)\n",
    "    return sum_cost\n",
    "\n",
    "def test_time(numletter):\n",
    "    start = time.time()\n",
    "    trunc_alphabet=list(alphabet)[:numletter]\n",
    "    variable_array=[Int(letter) for letter in trunc_alphabet]\n",
    "    s=Optimize()\n",
    "    for var in variable_array:\n",
    "        s.add(And(var>=0, var<numletter))\n",
    "    s.add(Distinct(variable_array))\n",
    "    final_sum=Int(\"final_sum\")\n",
    "    s.add(final_sum==cost_fonction_linear(variable_array))\n",
    "    s.minimize(final_sum)\n",
    "    s.check()\n",
    "    m=s.model()\n",
    "    end = time.time()\n",
    "    return end - start\n",
    "    \n",
    "times=[math.log(test_time(x)) for x in range(1,8)]\n",
    "plt.plot(range(1,8),times)\n",
    "plt.ylabel('Log(time)')\n",
    "plt.show()\n",
    "\n",
    "#Let's get trend\n",
    "a,b = np.polyfit(range(1,8),times, 1)\n",
    "print(\"predicted time for 26 letter :\", math.exp(a*27+b)/(60*60*24*365*1000*1000), \" million of years\")\n"
   ]
  },
  {
   "cell_type": "markdown",
   "metadata": {},
   "source": [
    "# How about phones?\n",
    "\n",
    "I still have a dumphone and I don't like T9. What would be the best letter arrangement? \n",
    "Let's put all the constraints here. \n",
    "\n",
    "* 7 group of 3 letters, 2 of 4\n",
    "* Each digraph costs us : \n",
    "    * the number of click in the group for the next letter\n",
    "    * the wait time if the letter is on the same button as the former one (very annoying, last as long as 3 clicks)\n",
    "    * move time is negligible"
   ]
  },
  {
   "cell_type": "code",
   "execution_count": 42,
   "metadata": {},
   "outputs": [
    {
     "name": "stdout",
     "output_type": "stream",
     "text": [
      "Total cost is : 1873076.0\n",
      "|---------| O S Q | H L J --|\n",
      "|-- A F U | I B P | E G Y --|\n",
      "| N R Z X | D T K | C M W V |\n"
     ]
    }
   ],
   "source": [
    "def print_string_dumbphone(s):\n",
    "    print(\"|---------|\",s[0],s[1],s[2],\"|\",s[3],s[4],s[5],\"--|\")\n",
    "    print(\"|--\",s[6],s[7],s[8],\"|\",s[9],s[10],s[11],\"|\",s[12],s[13],s[14],\"--|\")\n",
    "    print(\"|\",s[15],s[16],s[17],s[18],\"|\",s[19],s[20],s[21],\"|\",s[22],s[23],s[24],s[25],\"|\",)\n",
    "\n",
    "def cost_dumbphone(a,b,string):\n",
    "    #costs depends on: does a and b are on same pad, if yes cost is +3, and how many clicks for b\n",
    "    clickmap=list(range(1,4))*5+list(range(1,5))+list(range(1,4))+list(range(1,5))\n",
    "    cost = clickmap[string.index(b)]\n",
    "    #irregular so no smarter way\n",
    "    buttonlist=[[0,1,2],[3,4,5],[6,7,8],[9,10,11],[12,13,14],[15,16,17,18],[19,20,21],[22,23,24,25]]\n",
    "    for button in buttonlist:\n",
    "        if string.index(b)in button and string.index(a)in button:\n",
    "            return cost+3\n",
    "    return cost\n",
    "\n",
    "assert(cost_dumbphone(\"B\",\"A\", \"ABCDEFGHIJKLMNOPQRSTUVWXYZ\")==4)\n",
    "assert(cost_dumbphone(\"A\",\"Z\", \"ABCDEFGHIJKLMNOPQRSTUVWXYZ\")==4)\n",
    "assert(cost_dumbphone(\"A\",\"W\", \"ABCDEFGHIJKLMNOPQRSTUVWXYZ\")==1)\n",
    "assert(cost_dumbphone(\"U\",\"E\", \"ABCDEFGHIJKLMNOPQRSTUVWXYZ\")==2)\n",
    "\n",
    "proposition=genetic_force(50,10,5,cost_dumbphone)\n",
    "print(\"Total cost is :\",proposition[0])\n",
    "print_string_dumbphone(proposition[1])"
   ]
  },
  {
   "cell_type": "markdown",
   "metadata": {
    "collapsed": true
   },
   "source": [
    "Ok now for something a little more relatable. How about smartphones keyboards? Our constraints are a little simpler:\n",
    "\n",
    "* 3 row:\n",
    "    * 10 letter in the first one\n",
    "    * 9 in the second one (half a letter offset)\n",
    "    * 7 in the third one (one and a half letter offset)\n",
    "* Cost is euclidian travel distance"
   ]
  },
  {
   "cell_type": "code",
   "execution_count": 44,
   "metadata": {},
   "outputs": [
    {
     "name": "stdout",
     "output_type": "stream",
     "text": [
      "Total cost is : 2284394.0726253474\n",
      "Z V G N D R M F X Q \n",
      " K C I A E O U P J \n",
      "   W H T S L Y B \n"
     ]
    }
   ],
   "source": [
    "def print_string_smartphone(s):\n",
    "    print(''.join([s[x]+\" \" for x in range(0,10)]))\n",
    "    print(' '+ ''.join([s[x]+\" \" for x in range(10,19)]))\n",
    "    print('   '+''.join([s[x]+\" \" for x in range(19,26)]))\n",
    "    \n",
    "def cost_smartphone(a,b,string):\n",
    "    clickmap=[[0,x] for x in range(0,10)]+[[1,x+0.5] for x in range(0,9)]+[[2,x+1.5] for x in range(0,7)]\n",
    "    coord_a=clickmap[string.index(a)]\n",
    "    coord_b=clickmap[string.index(b)]\n",
    "    cost = math.sqrt((coord_a[0]-coord_b[0])**2+(coord_a[1]-coord_b[1])**2)\n",
    "    return cost\n",
    "\n",
    "assert(cost_smartphone('A','I',\"ABCDEFGHIJKLMNOPQRSTUVWXYZ\")==8)\n",
    "assert(cost_smartphone('A','K',\"ABCDEFGHIJKLMNOPQRSTUVWXYZ\")==math.sqrt(1.25))\n",
    "assert(cost_smartphone('A','T',\"ABCDEFGHIJKLMNOPQRSTUVWXYZ\")==math.sqrt(6.25))\n",
    "assert(cost_smartphone('V','A',\"ABCDEFGHIJKLMNOPQRSTUVWXYZ\")==math.sqrt(16.25))\n",
    "\n",
    "proposition=genetic_force(50,10,5,cost_smartphone)\n",
    "print(\"Total cost is :\",proposition[0])\n",
    "print_string_smartphone(proposition[1])\n"
   ]
  },
  {
   "cell_type": "code",
   "execution_count": null,
   "metadata": {},
   "outputs": [],
   "source": []
  }
 ],
 "metadata": {
  "kernelspec": {
   "display_name": "Python 3",
   "language": "python",
   "name": "python3"
  },
  "language_info": {
   "codemirror_mode": {
    "name": "ipython",
    "version": 3
   },
   "file_extension": ".py",
   "mimetype": "text/x-python",
   "name": "python",
   "nbconvert_exporter": "python",
   "pygments_lexer": "ipython3",
   "version": "3.6.4"
  }
 },
 "nbformat": 4,
 "nbformat_minor": 2
}
